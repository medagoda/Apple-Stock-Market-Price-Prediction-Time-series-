{
 "cells": [
  {
   "cell_type": "code",
   "execution_count": 3,
   "id": "a02c6847-e5bd-4040-868a-55f8c594aec9",
   "metadata": {},
   "outputs": [
    {
     "name": "stdout",
     "output_type": "stream",
     "text": [
      "   Item1   Item2   Item3\n",
      "0   Milk   Bread    None\n",
      "1   Milk  Diaper    None\n",
      "2   Milk   Bread  Diaper\n",
      "3  Bread  Butter    None\n",
      "4   Milk  Butter    None\n"
     ]
    }
   ],
   "source": [
    "import pandas as pd\n",
    "\n",
    "# Example dataset of transactions\n",
    "transactions = [\n",
    "    ['Milk', 'Bread'],\n",
    "    ['Milk', 'Diaper'],\n",
    "    ['Milk', 'Bread', 'Diaper'],\n",
    "    ['Bread', 'Butter'],\n",
    "    ['Milk', 'Butter'],\n",
    "    ['Diaper', 'Butter'],\n",
    "    ['Milk', 'Bread', 'Butter'],\n",
    "    ['Milk', 'Diaper', 'Butter']\n",
    "]\n",
    "\n",
    "# Find the maximum number of items in any transaction\n",
    "max_items = max(len(transaction) for transaction in transactions)\n",
    "\n",
    "# Create a DataFrame with dynamically sized columns\n",
    "df = pd.DataFrame(transactions, columns=[f'Item{i+1}' for i in range(max_items)])\n",
    "\n",
    "print(df.head())\n"
   ]
  },
  {
   "cell_type": "code",
   "execution_count": 4,
   "id": "18367d2b-94a0-4cee-b9c4-769c5a15b2ea",
   "metadata": {},
   "outputs": [
    {
     "name": "stdout",
     "output_type": "stream",
     "text": [
      "   Bread  Butter  Diaper   Milk\n",
      "0   True   False   False   True\n",
      "1  False   False    True   True\n",
      "2   True   False    True   True\n",
      "3   True    True   False  False\n",
      "4  False    True   False   True\n"
     ]
    }
   ],
   "source": [
    "from mlxtend.preprocessing import TransactionEncoder\n",
    "\n",
    "# Flatten the dataset\n",
    "te = TransactionEncoder()\n",
    "te_ary = te.fit(transactions).transform(transactions)\n",
    "\n",
    "df_onehot = pd.DataFrame(te_ary, columns=te.columns_)\n",
    "print(df_onehot.head())\n"
   ]
  },
  {
   "cell_type": "code",
   "execution_count": 8,
   "id": "e5bc0b5b-1779-4409-bb23-c5cc18b218a5",
   "metadata": {},
   "outputs": [
    {
     "name": "stdout",
     "output_type": "stream",
     "text": [
      "   support  itemsets\n",
      "0    0.500   (Bread)\n",
      "1    0.625  (Butter)\n",
      "2    0.500  (Diaper)\n",
      "3    0.750    (Milk)\n"
     ]
    }
   ],
   "source": [
    "from mlxtend.frequent_patterns import apriori\n",
    "\n",
    "# Generate frequent itemsets with a minimum support of 0.5 (50%)\n",
    "frequent_itemsets = apriori(df_onehot, min_support=0.5, use_colnames=True)\n",
    "print(frequent_itemsets)\n"
   ]
  },
  {
   "cell_type": "code",
   "execution_count": 9,
   "id": "da351099-b1bc-47e5-8d82-5f052ff42a9e",
   "metadata": {},
   "outputs": [
    {
     "name": "stdout",
     "output_type": "stream",
     "text": [
      "Empty DataFrame\n",
      "Columns: [antecedents, consequents, antecedent support, consequent support, support, confidence, lift, representativity, leverage, conviction, zhangs_metric, jaccard, certainty, kulczynski]\n",
      "Index: []\n"
     ]
    }
   ],
   "source": [
    "from mlxtend.frequent_patterns import association_rules\n",
    "\n",
    "# Generate association rules with a minimum lift of 1.0\n",
    "rules = association_rules(frequent_itemsets, metric=\"lift\", min_threshold=1.0)\n",
    "print(rules)\n"
   ]
  },
  {
   "cell_type": "code",
   "execution_count": 11,
   "id": "2dbc39e3-b205-40a6-bf8e-442160105045",
   "metadata": {},
   "outputs": [
    {
     "name": "stdout",
     "output_type": "stream",
     "text": [
      "Empty DataFrame\n",
      "Columns: [antecedents, consequents, antecedent support, consequent support, support, confidence, lift, representativity, leverage, conviction, zhangs_metric, jaccard, certainty, kulczynski]\n",
      "Index: []\n"
     ]
    }
   ],
   "source": [
    "# Filter rules with high confidence\n",
    "high_confidence_rules = rules[rules['confidence'] >= 0.7]\n",
    "print(high_confidence_rules)"
   ]
  },
  {
   "cell_type": "code",
   "execution_count": null,
   "id": "675db14f-ba69-45c8-92c7-ab2c215d6fd0",
   "metadata": {},
   "outputs": [],
   "source": []
  }
 ],
 "metadata": {
  "kernelspec": {
   "display_name": "Python 3 (ipykernel)",
   "language": "python",
   "name": "python3"
  },
  "language_info": {
   "codemirror_mode": {
    "name": "ipython",
    "version": 3
   },
   "file_extension": ".py",
   "mimetype": "text/x-python",
   "name": "python",
   "nbconvert_exporter": "python",
   "pygments_lexer": "ipython3",
   "version": "3.12.4"
  }
 },
 "nbformat": 4,
 "nbformat_minor": 5
}
